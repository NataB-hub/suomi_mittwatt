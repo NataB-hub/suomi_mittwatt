{
 "cells": [
  {
   "cell_type": "code",
   "execution_count": 1,
   "metadata": {
    "execution": {
     "iopub.execute_input": "2024-07-01T18:40:58.415470Z",
     "iopub.status.busy": "2024-07-01T18:40:58.415071Z",
     "iopub.status.idle": "2024-07-01T18:41:00.827443Z",
     "shell.execute_reply": "2024-07-01T18:41:00.826716Z"
    }
   },
   "outputs": [
    {
     "name": "stderr",
     "output_type": "stream",
     "text": [
      "2024-07-01 21:40:59.340394: I tensorflow/core/platform/cpu_feature_guard.cc:210] This TensorFlow binary is optimized to use available CPU instructions in performance-critical operations.\n",
      "To enable the following instructions: AVX2 FMA, in other operations, rebuild TensorFlow with the appropriate compiler flags.\n"
     ]
    },
    {
     "name": "stderr",
     "output_type": "stream",
     "text": [
      "2024-07-01 21:41:00.170351: W tensorflow/compiler/tf2tensorrt/utils/py_utils.cc:38] TF-TRT Warning: Could not find TensorRT\n"
     ]
    }
   ],
   "source": [
    "import sqlite3\n",
    "import os\n",
    "import numpy as np\n",
    "import pandas as pd\n",
    "import joblib\n",
    "\n",
    "from sklearn.preprocessing import MinMaxScaler\n",
    "import tensorflow as tf\n",
    "from tensorflow.keras.models import load_model"
   ]
  },
  {
   "cell_type": "code",
   "execution_count": 2,
   "metadata": {
    "execution": {
     "iopub.execute_input": "2024-07-01T18:41:00.831393Z",
     "iopub.status.busy": "2024-07-01T18:41:00.830347Z",
     "iopub.status.idle": "2024-07-01T18:41:01.211739Z",
     "shell.execute_reply": "2024-07-01T18:41:01.211224Z"
    }
   },
   "outputs": [
    {
     "name": "stderr",
     "output_type": "stream",
     "text": [
      "2024-07-01 21:41:00.871981: I external/local_xla/xla/stream_executor/cuda/cuda_executor.cc:998] successful NUMA node read from SysFS had negative value (-1), but there must be at least one NUMA node, so returning NUMA node zero. See more at https://github.com/torvalds/linux/blob/v6.0/Documentation/ABI/testing/sysfs-bus-pci#L344-L355\n",
      "2024-07-01 21:41:00.918653: I external/local_xla/xla/stream_executor/cuda/cuda_executor.cc:998] successful NUMA node read from SysFS had negative value (-1), but there must be at least one NUMA node, so returning NUMA node zero. See more at https://github.com/torvalds/linux/blob/v6.0/Documentation/ABI/testing/sysfs-bus-pci#L344-L355\n",
      "2024-07-01 21:41:00.918922: I external/local_xla/xla/stream_executor/cuda/cuda_executor.cc:998] successful NUMA node read from SysFS had negative value (-1), but there must be at least one NUMA node, so returning NUMA node zero. See more at https://github.com/torvalds/linux/blob/v6.0/Documentation/ABI/testing/sysfs-bus-pci#L344-L355\n",
      "2024-07-01 21:41:00.920424: I external/local_xla/xla/stream_executor/cuda/cuda_executor.cc:998] successful NUMA node read from SysFS had negative value (-1), but there must be at least one NUMA node, so returning NUMA node zero. See more at https://github.com/torvalds/linux/blob/v6.0/Documentation/ABI/testing/sysfs-bus-pci#L344-L355\n",
      "2024-07-01 21:41:00.920671: I external/local_xla/xla/stream_executor/cuda/cuda_executor.cc:998] successful NUMA node read from SysFS had negative value (-1), but there must be at least one NUMA node, so returning NUMA node zero. See more at https://github.com/torvalds/linux/blob/v6.0/Documentation/ABI/testing/sysfs-bus-pci#L344-L355\n",
      "2024-07-01 21:41:00.920870: I external/local_xla/xla/stream_executor/cuda/cuda_executor.cc:998] successful NUMA node read from SysFS had negative value (-1), but there must be at least one NUMA node, so returning NUMA node zero. See more at https://github.com/torvalds/linux/blob/v6.0/Documentation/ABI/testing/sysfs-bus-pci#L344-L355\n",
      "2024-07-01 21:41:01.018153: I external/local_xla/xla/stream_executor/cuda/cuda_executor.cc:998] successful NUMA node read from SysFS had negative value (-1), but there must be at least one NUMA node, so returning NUMA node zero. See more at https://github.com/torvalds/linux/blob/v6.0/Documentation/ABI/testing/sysfs-bus-pci#L344-L355\n",
      "2024-07-01 21:41:01.018392: I external/local_xla/xla/stream_executor/cuda/cuda_executor.cc:998] successful NUMA node read from SysFS had negative value (-1), but there must be at least one NUMA node, so returning NUMA node zero. See more at https://github.com/torvalds/linux/blob/v6.0/Documentation/ABI/testing/sysfs-bus-pci#L344-L355\n",
      "2024-07-01 21:41:01.018595: I external/local_xla/xla/stream_executor/cuda/cuda_executor.cc:998] successful NUMA node read from SysFS had negative value (-1), but there must be at least one NUMA node, so returning NUMA node zero. See more at https://github.com/torvalds/linux/blob/v6.0/Documentation/ABI/testing/sysfs-bus-pci#L344-L355\n",
      "2024-07-01 21:41:01.018757: I tensorflow/core/common_runtime/gpu/gpu_device.cc:1928] Created device /job:localhost/replica:0/task:0/device:GPU:0 with 2742 MB memory:  -> device: 0, name: NVIDIA GeForce GTX 1650 Ti, pci bus id: 0000:01:00.0, compute capability: 7.5\n",
      "WARNING:absl:Compiled the loaded model, but the compiled metrics have yet to be built. `model.compile_metrics` will be empty until you train or evaluate the model.\n"
     ]
    }
   ],
   "source": [
    "# Load the model\n",
    "model = load_model('updated_electricity_price_model.h5')"
   ]
  },
  {
   "cell_type": "code",
   "execution_count": 3,
   "metadata": {
    "execution": {
     "iopub.execute_input": "2024-07-01T18:41:01.215568Z",
     "iopub.status.busy": "2024-07-01T18:41:01.215121Z",
     "iopub.status.idle": "2024-07-01T18:41:01.226097Z",
     "shell.execute_reply": "2024-07-01T18:41:01.225597Z"
    }
   },
   "outputs": [
    {
     "data": {
      "text/plain": [
       "(314, 11)"
      ]
     },
     "execution_count": 3,
     "metadata": {},
     "output_type": "execute_result"
    }
   ],
   "source": [
    "# Connect to the SQLite database\n",
    "conn = sqlite3.connect(\"../prisma/db.sqlite\")\n",
    "# Query recent new feature data\n",
    "query = \"SELECT * FROM HistoricalElectricityWeather WHERE price IS NULL \"\n",
    "data = pd.read_sql_query(query, conn)\n",
    "data.shape"
   ]
  },
  {
   "cell_type": "code",
   "execution_count": 4,
   "metadata": {
    "execution": {
     "iopub.execute_input": "2024-07-01T18:41:01.230261Z",
     "iopub.status.busy": "2024-07-01T18:41:01.229824Z",
     "iopub.status.idle": "2024-07-01T18:41:01.247564Z",
     "shell.execute_reply": "2024-07-01T18:41:01.247060Z"
    }
   },
   "outputs": [
    {
     "data": {
      "text/html": [
       "<div>\n",
       "<style scoped>\n",
       "    .dataframe tbody tr th:only-of-type {\n",
       "        vertical-align: middle;\n",
       "    }\n",
       "\n",
       "    .dataframe tbody tr th {\n",
       "        vertical-align: top;\n",
       "    }\n",
       "\n",
       "    .dataframe thead th {\n",
       "        text-align: right;\n",
       "    }\n",
       "</style>\n",
       "<table border=\"1\" class=\"dataframe\">\n",
       "  <thead>\n",
       "    <tr style=\"text-align: right;\">\n",
       "      <th></th>\n",
       "      <th>id</th>\n",
       "      <th>dateId</th>\n",
       "      <th>price</th>\n",
       "      <th>temperature</th>\n",
       "      <th>precipitation</th>\n",
       "      <th>cloudCover</th>\n",
       "      <th>windSpeed10m</th>\n",
       "      <th>shortwaveRadiation</th>\n",
       "      <th>weatherCodeId</th>\n",
       "      <th>createdDate</th>\n",
       "      <th>modifiedDate</th>\n",
       "    </tr>\n",
       "  </thead>\n",
       "  <tbody>\n",
       "    <tr>\n",
       "      <th>0</th>\n",
       "      <td>2045</td>\n",
       "      <td>2045</td>\n",
       "      <td>None</td>\n",
       "      <td>-10.8850</td>\n",
       "      <td>0.0</td>\n",
       "      <td>19.500002</td>\n",
       "      <td>10.195057</td>\n",
       "      <td>0</td>\n",
       "      <td>0</td>\n",
       "      <td>2024-06-13 10:55:45</td>\n",
       "      <td>2024-06-13 10:55:45</td>\n",
       "    </tr>\n",
       "    <tr>\n",
       "      <th>1</th>\n",
       "      <td>10781</td>\n",
       "      <td>10781</td>\n",
       "      <td>None</td>\n",
       "      <td>-15.8350</td>\n",
       "      <td>0.0</td>\n",
       "      <td>0.000000</td>\n",
       "      <td>7.244860</td>\n",
       "      <td>0</td>\n",
       "      <td>0</td>\n",
       "      <td>2024-06-13 10:55:45</td>\n",
       "      <td>2024-06-13 10:55:45</td>\n",
       "    </tr>\n",
       "    <tr>\n",
       "      <th>2</th>\n",
       "      <td>19685</td>\n",
       "      <td>19685</td>\n",
       "      <td>None</td>\n",
       "      <td>-0.7350</td>\n",
       "      <td>0.0</td>\n",
       "      <td>92.699997</td>\n",
       "      <td>6.409617</td>\n",
       "      <td>1</td>\n",
       "      <td>3</td>\n",
       "      <td>2024-06-13 10:55:45</td>\n",
       "      <td>2024-06-13 10:55:45</td>\n",
       "    </tr>\n",
       "    <tr>\n",
       "      <th>3</th>\n",
       "      <td>21482</td>\n",
       "      <td>21482</td>\n",
       "      <td>None</td>\n",
       "      <td>7.7475</td>\n",
       "      <td>0.0</td>\n",
       "      <td>99.000000</td>\n",
       "      <td>1.800000</td>\n",
       "      <td>8</td>\n",
       "      <td>3</td>\n",
       "      <td>2024-06-13 10:55:45</td>\n",
       "      <td>2024-06-13 10:55:45</td>\n",
       "    </tr>\n",
       "    <tr>\n",
       "      <th>4</th>\n",
       "      <td>21483</td>\n",
       "      <td>21483</td>\n",
       "      <td>None</td>\n",
       "      <td>8.0475</td>\n",
       "      <td>0.0</td>\n",
       "      <td>97.000000</td>\n",
       "      <td>1.440000</td>\n",
       "      <td>41</td>\n",
       "      <td>3</td>\n",
       "      <td>2024-06-13 10:55:45</td>\n",
       "      <td>2024-06-13 10:55:45</td>\n",
       "    </tr>\n",
       "  </tbody>\n",
       "</table>\n",
       "</div>"
      ],
      "text/plain": [
       "      id  dateId price  temperature  precipitation  cloudCover  windSpeed10m  \\\n",
       "0   2045    2045  None     -10.8850            0.0   19.500002     10.195057   \n",
       "1  10781   10781  None     -15.8350            0.0    0.000000      7.244860   \n",
       "2  19685   19685  None      -0.7350            0.0   92.699997      6.409617   \n",
       "3  21482   21482  None       7.7475            0.0   99.000000      1.800000   \n",
       "4  21483   21483  None       8.0475            0.0   97.000000      1.440000   \n",
       "\n",
       "   shortwaveRadiation  weatherCodeId          createdDate         modifiedDate  \n",
       "0                   0              0  2024-06-13 10:55:45  2024-06-13 10:55:45  \n",
       "1                   0              0  2024-06-13 10:55:45  2024-06-13 10:55:45  \n",
       "2                   1              3  2024-06-13 10:55:45  2024-06-13 10:55:45  \n",
       "3                   8              3  2024-06-13 10:55:45  2024-06-13 10:55:45  \n",
       "4                  41              3  2024-06-13 10:55:45  2024-06-13 10:55:45  "
      ]
     },
     "execution_count": 4,
     "metadata": {},
     "output_type": "execute_result"
    }
   ],
   "source": [
    "data.head()"
   ]
  },
  {
   "cell_type": "code",
   "execution_count": 5,
   "metadata": {
    "execution": {
     "iopub.execute_input": "2024-07-01T18:41:01.251259Z",
     "iopub.status.busy": "2024-07-01T18:41:01.251009Z",
     "iopub.status.idle": "2024-07-01T18:41:01.255484Z",
     "shell.execute_reply": "2024-07-01T18:41:01.254918Z"
    }
   },
   "outputs": [],
   "source": [
    "# Select specific columns using .filter\n",
    "X = data.filter(['temperature', 'precipitation', 'weatherCodeId', 'cloudCover', 'windSpeed10m', 'shortwaveRadiation'])"
   ]
  },
  {
   "cell_type": "code",
   "execution_count": 6,
   "metadata": {
    "execution": {
     "iopub.execute_input": "2024-07-01T18:41:01.258654Z",
     "iopub.status.busy": "2024-07-01T18:41:01.258459Z",
     "iopub.status.idle": "2024-07-01T18:41:01.263946Z",
     "shell.execute_reply": "2024-07-01T18:41:01.263429Z"
    }
   },
   "outputs": [
    {
     "name": "stderr",
     "output_type": "stream",
     "text": [
      "/home/ashagaire/Desktop/LearnIT and coding with Finnish Language/Mittwatt/electricity-shoc/mittwatt/lib/python3.10/site-packages/sklearn/base.py:376: InconsistentVersionWarning: Trying to unpickle estimator MinMaxScaler from version 1.2.2 when using version 1.5.0. This might lead to breaking code or invalid results. Use at your own risk. For more info please refer to:\n",
      "https://scikit-learn.org/stable/model_persistence.html#security-maintainability-limitations\n",
      "  warnings.warn(\n"
     ]
    }
   ],
   "source": [
    "\n",
    "# Load the scalers from disk\n",
    "scaler_X = joblib.load('scaler_X.pkl')\n",
    "scaler_y = joblib.load('scaler_y.pkl')"
   ]
  },
  {
   "cell_type": "code",
   "execution_count": 7,
   "metadata": {
    "execution": {
     "iopub.execute_input": "2024-07-01T18:41:01.267829Z",
     "iopub.status.busy": "2024-07-01T18:41:01.267385Z",
     "iopub.status.idle": "2024-07-01T18:41:02.165598Z",
     "shell.execute_reply": "2024-07-01T18:41:02.164896Z"
    }
   },
   "outputs": [
    {
     "name": "stderr",
     "output_type": "stream",
     "text": [
      "WARNING: All log messages before absl::InitializeLog() is called are written to STDERR\n",
      "I0000 00:00:1719859261.385594   13131 service.cc:145] XLA service 0x72aa8c004570 initialized for platform CUDA (this does not guarantee that XLA will be used). Devices:\n",
      "I0000 00:00:1719859261.385651   13131 service.cc:153]   StreamExecutor device (0): NVIDIA GeForce GTX 1650 Ti, Compute Capability 7.5\n",
      "2024-07-01 21:41:01.401055: I tensorflow/compiler/mlir/tensorflow/utils/dump_mlir_util.cc:268] disabling MLIR crash reproducer, set env var `MLIR_CRASH_REPRODUCER_DIRECTORY` to enable.\n"
     ]
    },
    {
     "name": "stderr",
     "output_type": "stream",
     "text": [
      "2024-07-01 21:41:01.480207: I external/local_xla/xla/stream_executor/cuda/cuda_dnn.cc:465] Loaded cuDNN version 8907\n"
     ]
    },
    {
     "name": "stdout",
     "output_type": "stream",
     "text": [
      "\r",
      "\u001b[1m 1/10\u001b[0m \u001b[32m━━\u001b[0m\u001b[37m━━━━━━━━━━━━━━━━━━\u001b[0m \u001b[1m3s\u001b[0m 432ms/step"
     ]
    },
    {
     "name": "stderr",
     "output_type": "stream",
     "text": [
      "I0000 00:00:1719859261.736151   13131 device_compiler.h:188] Compiled cluster using XLA!  This line is logged at most once for the lifetime of the process.\n"
     ]
    },
    {
     "name": "stdout",
     "output_type": "stream",
     "text": [
      "\b\b\b\b\b\b\b\b\b\b\b\b\b\b\b\b\b\b\b\b\b\b\b\b\b\b\b\b\b\b\b\b\b\b\b\b\b\b\b\b\r",
      "\u001b[1m10/10\u001b[0m \u001b[32m━━━━━━━━━━━━━━━━━━━━\u001b[0m\u001b[37m\u001b[0m \u001b[1m0s\u001b[0m 45ms/step "
     ]
    },
    {
     "name": "stdout",
     "output_type": "stream",
     "text": [
      "\b\b\b\b\b\b\b\b\b\b\b\b\b\b\b\b\b\b\b\b\b\b\b\b\b\b\b\b\b\b\b\b\b\b\b\b\b\b\b\r",
      "\u001b[1m10/10\u001b[0m \u001b[32m━━━━━━━━━━━━━━━━━━━━\u001b[0m\u001b[37m\u001b[0m \u001b[1m1s\u001b[0m 45ms/step\n"
     ]
    }
   ],
   "source": [
    "# Normalize the features\n",
    "X_normalized = scaler_X.transform(X)\n",
    "# Predict using the trained model\n",
    "y_pred_scaled = model.predict(X_normalized)\n",
    "# Inverse transform the predicted values to get them back to the original scale\n",
    "y_pred = scaler_y.inverse_transform(y_pred_scaled)\n",
    "y_pred_flatten = y_pred.flatten()\n",
    "y_pred_one_d = y_pred_flatten.astype(float).round(2)"
   ]
  },
  {
   "cell_type": "code",
   "execution_count": 8,
   "metadata": {
    "execution": {
     "iopub.execute_input": "2024-07-01T18:41:02.169244Z",
     "iopub.status.busy": "2024-07-01T18:41:02.168907Z",
     "iopub.status.idle": "2024-07-01T18:41:02.173081Z",
     "shell.execute_reply": "2024-07-01T18:41:02.172645Z"
    }
   },
   "outputs": [],
   "source": [
    "# Create the new DataFrame\n",
    "prediction_dataframe_new = pd.DataFrame({\n",
    "    'dateId': data['dateId'],\n",
    "    'price': y_pred_one_d\n",
    "})"
   ]
  },
  {
   "cell_type": "code",
   "execution_count": 9,
   "metadata": {
    "execution": {
     "iopub.execute_input": "2024-07-01T18:41:02.175685Z",
     "iopub.status.busy": "2024-07-01T18:41:02.175495Z",
     "iopub.status.idle": "2024-07-01T18:41:02.192495Z",
     "shell.execute_reply": "2024-07-01T18:41:02.192021Z"
    }
   },
   "outputs": [],
   "source": [
    "# Insert or update rows\n",
    "for index, row in prediction_dataframe_new.iterrows():\n",
    "    date = row['dateId']\n",
    "    price = row['price']\n",
    "    insert_or_replace_query = \"\"\"\n",
    "    INSERT OR REPLACE INTO ForecastElectricityPrice (dateId, price)\n",
    "    VALUES (?, ?);\n",
    "    \"\"\"\n",
    "    conn.execute(insert_or_replace_query, (date, price))\n"
   ]
  },
  {
   "cell_type": "code",
   "execution_count": 10,
   "metadata": {
    "execution": {
     "iopub.execute_input": "2024-07-01T18:41:02.195571Z",
     "iopub.status.busy": "2024-07-01T18:41:02.195250Z",
     "iopub.status.idle": "2024-07-01T18:41:02.214928Z",
     "shell.execute_reply": "2024-07-01T18:41:02.214457Z"
    }
   },
   "outputs": [],
   "source": [
    "# Close the connection\n",
    "conn.commit()\n",
    "conn.close()"
   ]
  }
 ],
 "metadata": {
  "kernelspec": {
   "display_name": "mittwatt",
   "language": "python",
   "name": "python3"
  },
  "language_info": {
   "codemirror_mode": {
    "name": "ipython",
    "version": 3
   },
   "file_extension": ".py",
   "mimetype": "text/x-python",
   "name": "python",
   "nbconvert_exporter": "python",
   "pygments_lexer": "ipython3",
   "version": "3.10.12"
  }
 },
 "nbformat": 4,
 "nbformat_minor": 2
}
